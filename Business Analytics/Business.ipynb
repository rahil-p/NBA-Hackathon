{
 "cells": [
  {
   "cell_type": "code",
   "execution_count": 11,
   "metadata": {
    "collapsed": true
   },
   "outputs": [],
   "source": [
    "# import required libraries\n",
    "import numpy as np\n",
    "import pandas as pd\n",
    "from datetime import datetime\n",
    "\n",
    "from sklearn import datasets, linear_model\n",
    "from sklearn.metrics import mean_squared_error, r2_score\n",
    "\n",
    "from sklearn.ensemble import RandomForestRegressor\n",
    "from sklearn.svm import SVR\n",
    "from sklearn.naive_bayes import GaussianNB\n",
    "from sklearn.linear_model import Ridge\n"
   ]
  },
  {
   "cell_type": "code",
   "execution_count": 2,
   "metadata": {},
   "outputs": [],
   "source": [
    "# import datasets into dataframes, drop unnecessary columns\n",
    "game_df = pd.read_csv(\"game_data.csv\", sep=',')\n",
    "player_df = pd.read_csv(\"player_data.csv\", sep=',')\n",
    "train_df = pd.read_csv(\"training_set.csv\", sep=',')\n",
    "test_df = pd.read_csv(\"test_set.csv\", sep=',')\n",
    "team_df = pd.read_csv(\"team_data.csv\", sep=',')\n",
    "\n",
    "game_df = game_df[['Season', 'Game_ID', 'Game_Date', 'Team', 'Location', 'Wins_Entering_Gm', 'Losses_Entering_Gm']]\n",
    "player_df = player_df[['Season', 'Game_ID', 'Game_Date', 'Team', 'Person_ID', 'Name', 'ASG_Team', 'Active_Status']]\n"
   ]
  },
  {
   "cell_type": "code",
   "execution_count": 3,
   "metadata": {
    "scrolled": false
   },
   "outputs": [
    {
     "name": "stdout",
     "output_type": "stream",
     "text": [
      "['Season', 'Game_ID', 'Game_Date', 'Team', 'Location', 'Wins_Entering_Gm', 'Losses_Entering_Gm']\n",
      "['Season', 'Game_ID', 'Game_Date', 'Team', 'Person_ID', 'Name', 'ASG_Team', 'Active_Status']\n",
      "['Season', 'Game_ID', 'Game_Date', 'Away_Team', 'Home_Team', 'Country', 'Rounded Viewers']\n",
      "['Season', 'Game_ID', 'Game_Date', 'Away_Team', 'Home_Team', 'Total_Viewers']\n",
      "['Team', 'Market_Size', 'Championships', 'Playoffs', 'Twitter']\n",
      "    Season   Game_ID   Game_Date Away_Team Home_Team  Total_Viewers\n",
      "0  2016-17  21600010  10/26/2016       DEN       NOP            NaN\n",
      "1  2016-17  21600023  10/28/2016       HOU       DAL            NaN\n",
      "2  2016-17  21600027  10/29/2016       BOS       CHA            NaN\n",
      "  Team  Market_Size  Championships  Playoffs  Twitter\n",
      "0  MIL         2255              1         7    0.462\n",
      "1  GSW         6750              4         5    1.688\n",
      "2  MIN         4667              0         4    0.458\n"
     ]
    }
   ],
   "source": [
    "print list(game_df)\n",
    "print list(player_df)\n",
    "print list(train_df)\n",
    "print list(test_df)\n",
    "print list(team_df)\n",
    "\n",
    "print test_df[0:3]\n",
    "print team_df[0:3] # my outside data"
   ]
  },
  {
   "cell_type": "code",
   "execution_count": 4,
   "metadata": {
    "collapsed": true
   },
   "outputs": [],
   "source": [
    "# major rivalries aquired by Wikipedia\n",
    "rivalry = [('CLE', 'GSW'), ('BOS', 'LAL'), ('LAL', 'DET'), ('PHI', 'BOS'), ('BOS', 'NYK'), \n",
    "           ('NYK', 'BKN'), ('CHI', 'DET'), ('CHI', 'CLE'), ('CHI', 'MIA'), ('CHI', 'NYK'), \n",
    "           ('BOS', 'DET'), ('MIA', 'NYK'), ('NYK', 'IND'), ('LAL', 'LAC'), ('DAL', 'HOU'),\n",
    "           ('HOU', 'SAS'), ('UTA', 'HOU'), ('LAL', 'SAS'), ('SAS', 'PHX')]\n",
    "\n",
    "# US national holidays, NBA regular season first 2 days and last day\n",
    "holiday = ['9/3/2016', '10/8/2016', '10/25/2016', '10/26/2016', '11/12/2016', '11/22/2016', \n",
    "           '11/23/2016', '12/25/2016', '1/1/2017', '1/15/2017', '2/19/2017', '4/12/2017',\n",
    "           '4/16/2017', '5/13/2017', '5/28/2017', '6/17/2017', '7/4/2017', '9/3/2017', \n",
    "           '10/8/2017', '10/17/2017', '10/18/2017', '11/12/2017', '11/22/2017', '11/23/2017', \n",
    "           '12/25/2017', '1/1/2018', '1/15/2018', '2/19/2018', '4/11/2018', '4/16/2018', \n",
    "           '5/13/2018', '5/28/2018','6/17/2018', '7/4/2018']\n"
   ]
  },
  {
   "cell_type": "code",
   "execution_count": 5,
   "metadata": {
    "scrolled": true
   },
   "outputs": [
    {
     "name": "stdout",
     "output_type": "stream",
     "text": [
      "2000 2000 460\n"
     ]
    }
   ],
   "source": [
    "# create training/test set for 2016 model, we add features to this later\n",
    "model_train_X = train_df[['Season', 'Game_ID', 'Game_Date', 'Away_Team', 'Home_Team']].drop_duplicates().reset_index(drop=True) \n",
    "model_output_X = test_df[['Season', 'Game_ID', 'Game_Date', 'Away_Team', 'Home_Team']]\n",
    "\n",
    "games = list(model_train_X['Game_ID'])\n",
    "# add up total viewers for each game in training set\n",
    "model_train_y = []\n",
    "for game in games:\n",
    "    model_train_y.append(sum(list(train_df.loc[train_df['Game_ID'] == game]['Rounded Viewers']))) \n",
    "    \n",
    "print len(model_train_X), len(model_train_y), len(model_output_X)\n"
   ]
  },
  {
   "cell_type": "code",
   "execution_count": 6,
   "metadata": {
    "scrolled": true
   },
   "outputs": [
    {
     "name": "stdout",
     "output_type": "stream",
     "text": [
      "    Season   Game_ID   Game_Date Away_Team Home_Team  Year  Rivalry  Day_Code  \\\n",
      "0  2016-17  21600001  10/25/2016       NYK       CLE     0        0         1   \n",
      "1  2016-17  21600003  10/25/2016       SAS       GSW     0        0         1   \n",
      "2  2016-17  21600002  10/25/2016       UTA       POR     0        0         1   \n",
      "\n",
      "   Holiday  Home_All_Stars      ...       Home_Market_Size  Away_Market_Size  \\\n",
      "0        1             3.0      ...                 4053.0           19995.0   \n",
      "1        1             4.0      ...                 6750.0            2193.0   \n",
      "2        1             0.0      ...                 3010.0            2505.0   \n",
      "\n",
      "   Home_Championships  Away_Championships  Home_Playoffs  Away_Playoffs  \\\n",
      "0                 1.0                 2.0            7.0            5.0   \n",
      "1                 4.0                 5.0            5.0           16.0   \n",
      "2                 1.0                 0.0            9.0            8.0   \n",
      "\n",
      "   Home_Twitter  Away_Twitter  Home_Win_Pct  Away_Win_Pct  \n",
      "0         1.138         1.393           0.0           0.0  \n",
      "1         1.688         1.278           0.0           0.0  \n",
      "2         0.576         0.455           0.0           0.0  \n",
      "\n",
      "[3 rows x 21 columns]\n",
      "    Season   Game_ID   Game_Date Away_Team Home_Team  Year  Rivalry  Day_Code  \\\n",
      "0  2016-17  21600010  10/26/2016       DEN       NOP     0        0         2   \n",
      "1  2016-17  21600023  10/28/2016       HOU       DAL     0        1         4   \n",
      "2  2016-17  21600027  10/29/2016       BOS       CHA     0        0         5   \n",
      "\n",
      "   Holiday  Home_All_Stars      ...       Home_Market_Size  Away_Market_Size  \\\n",
      "0        1             1.0      ...                 1559.0            3921.0   \n",
      "1        0             0.0      ...                 7090.0            6579.0   \n",
      "2        0             1.0      ...                 3462.0            6448.0   \n",
      "\n",
      "   Home_Championships  Away_Championships  Home_Playoffs  Away_Playoffs  \\\n",
      "0                 0.0                 0.0            6.0           10.0   \n",
      "1                 1.0                 2.0           15.0            9.0   \n",
      "2                 0.0                17.0            5.0           12.0   \n",
      "\n",
      "   Home_Twitter  Away_Twitter  Home_Win_Pct  Away_Win_Pct  \n",
      "0         0.457         0.476           0.0           0.0  \n",
      "1         0.879         0.985           0.0           0.0  \n",
      "2         0.516         1.863           1.0           0.5  \n",
      "\n",
      "[3 rows x 21 columns]\n"
     ]
    }
   ],
   "source": [
    "# columns to add to train/test sets\n",
    "cols = ['Home_All_Stars', 'Away_All_Stars', 'Home_Market_Size', 'Away_Market_Size', \n",
    "            'Home_Championships', 'Away_Championships', 'Home_Playoffs', 'Away_Playoffs',\n",
    "            'Home_Twitter', 'Away_Twitter', 'Home_Win_Pct', 'Away_Win_Pct']\n",
    "\n",
    "model_train_X['Year'] = 0\n",
    "model_train_X['Rivalry'] = 0\n",
    "model_output_X['Year'] = 0\n",
    "model_output_X['Rivalry'] = 0\n",
    "model_train_X['Day_Code'] = 0\n",
    "model_output_X['Day_Code'] = 0\n",
    "model_train_X['Holiday'] = 0\n",
    "model_output_X['Holiday'] = 0\n",
    "\n",
    "for c in cols:\n",
    "    model_train_X[c] = 0.0\n",
    "    model_output_X[c] = 0.0\n",
    "    model_train_X[c] = 0.0\n",
    "    model_output_X[c] = 0.0\n",
    "    \n",
    "metrics = ['Market_Size', 'Championships', 'Playoffs', 'Twitter']\n",
    "\n",
    "def add_features(set_X, num_rows):\n",
    "    \n",
    "    i = 0\n",
    "    games = list(set_X['Game_ID'])\n",
    "    \n",
    "\n",
    "    for game in games[0:num_rows]:\n",
    "        # determine home and away team and winning percentages\n",
    "        \n",
    "        h_row = game_df.loc[(game_df['Game_ID'] == game) & (game_df['Location'] == 'H')]\n",
    "        a_row = game_df.loc[(game_df['Game_ID'] == game) & (game_df['Location'] == 'A')]\n",
    "        \n",
    "        h_team = list(h_row['Team'])[0]\n",
    "        a_team = list(a_row['Team'])[0]\n",
    "        \n",
    "        h_win = float(list(h_row['Wins_Entering_Gm'])[0])\n",
    "        h_loss = float(list(h_row['Losses_Entering_Gm'])[0])\n",
    "        \n",
    "        a_win = float(list(a_row['Wins_Entering_Gm'])[0])\n",
    "        a_loss = float(list(a_row['Losses_Entering_Gm'])[0])\n",
    "        \n",
    "        if (h_win + h_loss != 0):\n",
    "            h_pct = h_win / (h_win + h_loss)\n",
    "        else:\n",
    "            h_pct = 0\n",
    "            \n",
    "        if (a_win + a_loss != 0):\n",
    "            a_pct = a_win / (a_win + a_loss)\n",
    "        else:\n",
    "            a_pct = 0\n",
    "    \n",
    "        # determine home and away active all stars\n",
    "        h_all_stars = len(player_df.loc[(player_df['Team'] == h_team) \n",
    "                                        & (player_df['Game_ID'] == game) \n",
    "                                        & (player_df['ASG_Team'] != 'None') \n",
    "                                        & (player_df['Active_Status'] == 'Active')])\n",
    "    \n",
    "        a_all_stars = len(player_df.loc[(player_df['Team'] == a_team) \n",
    "                                        & (player_df['Game_ID'] == game) \n",
    "                                        & (player_df['ASG_Team'] != 'None') \n",
    "                                        & (player_df['Active_Status'] == 'Active')])\n",
    "        \n",
    "        # determine home and away team metrics\n",
    "        h_team_df = team_df.loc[team_df['Team'] == h_team]\n",
    "        a_team_df = team_df.loc[team_df['Team'] == a_team]\n",
    "        for metric in metrics:\n",
    "            set_X.at[i, 'Home_' + metric] = h_team_df[metric]\n",
    "            set_X.at[i, 'Away_' + metric] = a_team_df[metric]\n",
    "    \n",
    "        set_X.at[i, 'Home_All_Stars'] = h_all_stars\n",
    "        set_X.at[i, 'Away_All_Stars'] = a_all_stars\n",
    "        set_X.at[i, 'Home_Win_Pct'] = h_pct\n",
    "        set_X.at[i, 'Away_Win_Pct'] = a_pct\n",
    "        \n",
    "        # convert season to a new binary feature\n",
    "        if (set_X['Season'][i] == '2016-17'):\n",
    "            set_X.at[i, 'Year'] = 0\n",
    "        elif (set_X['Season'][i] == '2017-18'):\n",
    "            set_X.at[i, 'Year'] = 1\n",
    "            \n",
    "        # add in if there was a rivalry as a binary feature\n",
    "        if ((h_team, a_team) in rivalry) or ((a_team, h_team) in rivalry):\n",
    "            set_X.at[i, 'Rivalry'] = 1\n",
    "            \n",
    "        # add in weekends/holidays as categorical features\n",
    "        set_X.at[i, 'Day_Code'] = datetime.strptime(set_X['Game_Date'][i], '%m/%d/%Y').weekday()\n",
    "        if set_X['Game_Date'][i] in holiday:\n",
    "            set_X.at[i, 'Holiday'] = 1\n",
    "        \n",
    "        # print game, h_team, a_team, h_all_stars, a_all_stars, h_pct, a_pct\n",
    "        \n",
    "        i += 1\n",
    "        \n",
    "    print set_X[0:3]\n",
    "\n",
    "add_features(model_train_X, len(model_train_X))\n",
    "add_features(model_output_X, len(model_output_X))\n"
   ]
  },
  {
   "cell_type": "code",
   "execution_count": 7,
   "metadata": {},
   "outputs": [
    {
     "name": "stdout",
     "output_type": "stream",
     "text": [
      "    Season   Game_ID   Game_Date Away_Team Home_Team  Year  Rivalry  Day_Code  \\\n",
      "0  2016-17  21600001  10/25/2016       NYK       CLE     0        0         1   \n",
      "1  2016-17  21600003  10/25/2016       SAS       GSW     0        0         1   \n",
      "2  2016-17  21600002  10/25/2016       UTA       POR     0        0         1   \n",
      "\n",
      "   Holiday  Home_All_Stars      ...       Home_Market_Size  Away_Market_Size  \\\n",
      "0        1             3.0      ...                 4053.0           19995.0   \n",
      "1        1             4.0      ...                 6750.0            2193.0   \n",
      "2        1             0.0      ...                 3010.0            2505.0   \n",
      "\n",
      "   Home_Championships  Away_Championships  Home_Playoffs  Away_Playoffs  \\\n",
      "0                 1.0                 2.0            7.0            5.0   \n",
      "1                 4.0                 5.0            5.0           16.0   \n",
      "2                 1.0                 0.0            9.0            8.0   \n",
      "\n",
      "   Home_Twitter  Away_Twitter  Home_Win_Pct  Away_Win_Pct  \n",
      "0         1.138         1.393           0.0           0.0  \n",
      "1         1.688         1.278           0.0           0.0  \n",
      "2         0.576         0.455           0.0           0.0  \n",
      "\n",
      "[3 rows x 21 columns]\n"
     ]
    }
   ],
   "source": [
    "# subsetting the training dataset\n",
    "print model_train_X[0:3]\n",
    "drop_cols = ['Season', 'Game_ID','Game_Date', 'Away_Team', 'Home_Team']\n",
    "\n",
    "# make train set of 1200\n",
    "model_sub_X = model_train_X.drop(drop_cols, axis=1)[0 : 1500]\n",
    "model_sub_y = model_train_y[0 : 1500]\n",
    "\n",
    "# make validation set that we will use to optimise our model\n",
    "model_val_X = model_train_X.drop(drop_cols, axis=1)[1500 : 1750]\n",
    "model_val_y = model_train_y[1500 : 1750]\n",
    "\n",
    "# make test set that we won't touch until we're completely done\n",
    "model_test_X = model_train_X.drop(drop_cols, axis=1)[1750 : ]\n",
    "model_test_y = model_train_y[1750 : ]\n"
   ]
  },
  {
   "cell_type": "code",
   "execution_count": 8,
   "metadata": {
    "collapsed": true
   },
   "outputs": [],
   "source": [
    "def mape(predict, actual):\n",
    "    n = len(predict)\n",
    "    sum_score = 0.0\n",
    "    for i in xrange(n):\n",
    "        sum_score += abs(predict[i] - actual[i]) / float(actual[i])\n",
    "    return (1 / float(len(predict))) * sum_score\n"
   ]
  },
  {
   "cell_type": "code",
   "execution_count": 9,
   "metadata": {},
   "outputs": [
    {
     "name": "stdout",
     "output_type": "stream",
     "text": [
      "[ 16136.98556324  13702.94199767  19539.14551592]\n",
      "[15158, 12349, 17122]\n",
      "0.543776065181\n",
      "0.388837609947\n"
     ]
    },
    {
     "name": "stderr",
     "output_type": "stream",
     "text": [
      "/usr/local/lib/python2.7/site-packages/scipy/linalg/basic.py:1018: RuntimeWarning: internal gelsd driver lwork query error, required iwork dimension not returned. This is likely the result of LAPACK bug 0038, fixed in LAPACK 3.2.2 (released July 21, 2010). Falling back to 'gelss' driver.\n",
      "  warnings.warn(mesg, RuntimeWarning)\n"
     ]
    }
   ],
   "source": [
    "# linear regression\n",
    "\n",
    "reg = linear_model.LinearRegression()\n",
    "reg.fit(model_sub_X, model_sub_y)\n",
    "model_val_pred = reg.predict(model_val_X)\n",
    "print model_val_pred[0:3]\n",
    "print model_val_y[0:3]\n",
    "\n",
    "print mape(model_val_pred, model_val_y)\n",
    "print r2_score(model_val_y, model_val_pred)\n"
   ]
  },
  {
   "cell_type": "code",
   "execution_count": 50,
   "metadata": {},
   "outputs": [
    {
     "name": "stdout",
     "output_type": "stream",
     "text": [
      "['Year', 'Rivalry', 'Day_Code', 'Holiday', 'Home_All_Stars', 'Away_All_Stars', 'Home_Market_Size', 'Away_Market_Size', 'Home_Championships', 'Away_Championships', 'Home_Playoffs', 'Away_Playoffs', 'Home_Twitter', 'Away_Twitter', 'Home_Win_Pct', 'Away_Win_Pct']\n",
      "[  1.17868675   0.80956756   3.22097517   1.41536356  13.88505991\n",
      "  23.83137533   3.52483762   2.65615733   1.84786225   2.76811006\n",
      "   1.9711264    1.65976694   8.91517255   8.31446158  12.62734659\n",
      "  11.37413038]\n",
      "[ 10539.63781294  14415.06399316  16033.75426587] [15158, 12349, 17122]\n",
      "0.410301702148\n",
      "0.603209892271\n"
     ]
    }
   ],
   "source": [
    "# try random forest\n",
    "reg = RandomForestRegressor(max_depth=11, random_state=0)\n",
    "reg.fit(model_sub_X, model_sub_y)\n",
    "print list(model_sub_X)\n",
    "print(reg.feature_importances_ * 100)\n",
    "model_val_pred = reg.predict(model_val_X)\n",
    "print model_val_pred[0:3], model_val_y[0:3]\n",
    "print mape(model_val_pred, model_val_y)\n",
    "print r2_score(model_val_y, model_val_pred)"
   ]
  },
  {
   "cell_type": "code",
   "execution_count": 51,
   "metadata": {},
   "outputs": [
    {
     "name": "stdout",
     "output_type": "stream",
     "text": [
      "[10662 10662 11563] [15158, 12349, 17122]\n",
      "0.514417281434\n",
      "0.0726420124552\n",
      "[ 14616.9741414   14618.66933456  14616.9363393 ] [15158, 12349, 17122]\n",
      "0.629629658771\n",
      "-0.0129828837481\n",
      "[ 16138.69361544  13706.96235896  19537.26975883] [15158, 12349, 17122]\n",
      "0.543776167312\n",
      "0.389040986016\n"
     ]
    }
   ],
   "source": [
    "def reg_model(model):\n",
    "    reg = model\n",
    "    reg.fit(model_sub_X, model_sub_y)\n",
    "    model_val_pred = reg.predict(model_val_X)\n",
    "    print model_val_pred[0:3], model_val_y[0:3]\n",
    "    print mape(model_val_pred, model_val_y)\n",
    "    print r2_score(model_val_y, model_val_pred)\n",
    "    return None\n",
    "\n",
    "# try some other models\n",
    "reg_model(GaussianNB()) # naive bayes\n",
    "reg_model(SVR(C=1.0, epsilon=0.2)) # support vector machine\n",
    "reg_model(Ridge(alpha=1.0)) # ridge regression"
   ]
  },
  {
   "cell_type": "code",
   "execution_count": 47,
   "metadata": {
    "scrolled": true
   },
   "outputs": [
    {
     "name": "stdout",
     "output_type": "stream",
     "text": [
      "[14407.859, 35837.3, 16823.246] 460\n"
     ]
    }
   ],
   "source": [
    "# predict final values for output (test) set \n",
    "final_model_train_X = model_train_X.drop(drop_cols, axis=1)\n",
    "final_model_output_X = model_output_X.drop(drop_cols, axis=1)\n",
    "\n",
    "# choose which model to use\n",
    "reg = RandomForestRegressor(max_depth=11, random_state=0)\n",
    "\n",
    "# train and predict\n",
    "reg.fit(final_model_train_X, model_train_y)\n",
    "model_output_pred = reg.predict(final_model_output_X)\n",
    "\n",
    "final_model_output_pred = []\n",
    "# round output values\n",
    "for total in model_output_pred:\n",
    "    final_model_output_pred.append(round(total, 3))\n",
    "    \n",
    "print final_model_output_pred[0:3], len(final_model_output_pred)"
   ]
  },
  {
   "cell_type": "code",
   "execution_count": 49,
   "metadata": {},
   "outputs": [
    {
     "name": "stdout",
     "output_type": "stream",
     "text": [
      "    Season   Game_ID   Game_Date Away_Team Home_Team  Total_Viewers\n",
      "0  2016-17  21600010  10/26/2016       DEN       NOP      14407.859\n",
      "1  2016-17  21600023  10/28/2016       HOU       DAL      35837.300\n",
      "2  2016-17  21600027  10/29/2016       BOS       CHA      16823.246\n"
     ]
    }
   ],
   "source": [
    "new_df = test_df.drop(['Total_Viewers'], axis=1)\n",
    "new_df['Total_Viewers'] = final_model_output_pred\n",
    "\n",
    "print new_df[0:3]\n",
    "# new_df.to_csv('test_set_Columbia.csv')\n"
   ]
  },
  {
   "cell_type": "code",
   "execution_count": null,
   "metadata": {
    "collapsed": true
   },
   "outputs": [],
   "source": []
  }
 ],
 "metadata": {
  "kernelspec": {
   "display_name": "Python 2",
   "language": "python",
   "name": "python2"
  },
  "language_info": {
   "codemirror_mode": {
    "name": "ipython",
    "version": 2
   },
   "file_extension": ".py",
   "mimetype": "text/x-python",
   "name": "python",
   "nbconvert_exporter": "python",
   "pygments_lexer": "ipython2",
   "version": "2.7.14"
  }
 },
 "nbformat": 4,
 "nbformat_minor": 2
}
