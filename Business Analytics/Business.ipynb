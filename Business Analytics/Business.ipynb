{
 "cells": [
  {
   "cell_type": "code",
   "execution_count": 1,
   "metadata": {
    "collapsed": true
   },
   "outputs": [],
   "source": [
    "# import required libraries\n",
    "import numpy as np\n",
    "import pandas as pd\n",
    "import matplotlib.pyplot as plt\n",
    "from datetime import datetime\n",
    "\n",
    "from sklearn import datasets, linear_model\n",
    "from sklearn.metrics import mean_squared_error, r2_score\n",
    "\n",
    "from sklearn.ensemble import RandomForestRegressor\n",
    "from sklearn.svm import SVR\n",
    "from sklearn.naive_bayes import GaussianNB\n",
    "from sklearn.linear_model import Ridge\n",
    "from sklearn.neural_network import MLPRegressor\n",
    "from sklearn import tree\n",
    "from sklearn.neighbors import KNeighborsRegressor\n",
    "from sklearn.preprocessing import normalize\n",
    "from sklearn.preprocessing import PolynomialFeatures\n"
   ]
  },
  {
   "cell_type": "code",
   "execution_count": 2,
   "metadata": {
    "collapsed": true
   },
   "outputs": [],
   "source": [
    "# import datasets into dataframes, drop unnecessary columns\n",
    "game_df = pd.read_csv(\"game_data.csv\", sep=',')\n",
    "player_df = pd.read_csv(\"player_data.csv\", sep=',')\n",
    "train_df = pd.read_csv(\"training_set.csv\", sep=',')\n",
    "test_df = pd.read_csv(\"test_set.csv\", sep=',')\n",
    "team_df = pd.read_csv(\"team_data.csv\", sep=',')\n",
    "\n",
    "game_df = game_df[['Season', 'Game_ID', 'Game_Date', 'Team', 'Location', 'Wins_Entering_Gm', 'Losses_Entering_Gm']]\n",
    "player_df = player_df[['Season', 'Game_ID', 'Game_Date', 'Team', 'Person_ID', 'Name', 'ASG_Team', 'Active_Status']]\n"
   ]
  },
  {
   "cell_type": "code",
   "execution_count": 3,
   "metadata": {
    "scrolled": false
   },
   "outputs": [
    {
     "name": "stdout",
     "output_type": "stream",
     "text": [
      "['Season', 'Game_ID', 'Game_Date', 'Team', 'Location', 'Wins_Entering_Gm', 'Losses_Entering_Gm']\n",
      "['Season', 'Game_ID', 'Game_Date', 'Team', 'Person_ID', 'Name', 'ASG_Team', 'Active_Status']\n",
      "['Season', 'Game_ID', 'Game_Date', 'Away_Team', 'Home_Team', 'Country', 'Rounded Viewers']\n",
      "['Season', 'Game_ID', 'Game_Date', 'Away_Team', 'Home_Team', 'Total_Viewers']\n",
      "['Team', 'Market_Size', 'Championships', 'Playoffs', 'Twitter']\n",
      "    Season   Game_ID   Game_Date Away_Team Home_Team  Total_Viewers\n",
      "0  2016-17  21600010  10/26/2016       DEN       NOP            NaN\n",
      "1  2016-17  21600023  10/28/2016       HOU       DAL            NaN\n",
      "2  2016-17  21600027  10/29/2016       BOS       CHA            NaN\n",
      "  Team  Market_Size  Championships  Playoffs  Twitter\n",
      "0  MIL         2255              1         7    0.462\n",
      "1  GSW         6750              4         5    1.688\n",
      "2  MIN         4667              0         4    0.458\n"
     ]
    }
   ],
   "source": [
    "print list(game_df)\n",
    "print list(player_df)\n",
    "print list(train_df)\n",
    "print list(test_df)\n",
    "print list(team_df)\n",
    "\n",
    "print test_df[0:3]\n",
    "print team_df[0:3] # my outside data"
   ]
  },
  {
   "cell_type": "code",
   "execution_count": 4,
   "metadata": {
    "collapsed": true
   },
   "outputs": [],
   "source": [
    "# major rivalries aquired by Wikipedia\n",
    "rivalry = [('CLE', 'GSW'), ('BOS', 'LAL'), ('LAL', 'DET'), ('PHI', 'BOS'), ('BOS', 'NYK'), \n",
    "           ('NYK', 'BKN'), ('CHI', 'DET'), ('CHI', 'CLE'), ('CHI', 'MIA'), ('CHI', 'NYK'), \n",
    "           ('BOS', 'DET'), ('MIA', 'NYK'), ('NYK', 'IND'), ('LAL', 'LAC'), ('DAL', 'HOU'),\n",
    "           ('HOU', 'SAS'), ('UTA', 'HOU'), ('LAL', 'SAS'), ('SAS', 'PHX')]\n",
    "\n",
    "# US national holidays\n",
    "holiday = ['9/3/2016', '10/8/2016', '11/12/2016', '11/22/2016', \n",
    "           '11/23/2016', '12/25/2016', '1/1/2017', '1/15/2017', '2/19/2017', \n",
    "           '4/16/2017', '5/13/2017', '5/28/2017', '6/17/2017', '7/4/2017', '9/3/2017', \n",
    "           '10/8/2017', '11/12/2017', '11/22/2017', '11/23/2017', \n",
    "           '12/25/2017', '1/1/2018', '1/15/2018', '2/19/2018', '4/16/2018', \n",
    "           '5/13/2018', '5/28/2018','6/17/2018', '7/4/2018']\n",
    "\n",
    "# NBA regular season first week\n",
    "first = ['10/25/2016', '10/26/2016', '10/27/2016', '10/28/2016', '10/29/2016',\n",
    "         '10/30/2016', '10/31/2016', '10/17/2017', '10/18/2017', '10/19/2017',\n",
    "         '10/20/2017', '10/21/2017', '10/22/2017', '10/23/2017',]\n",
    "\n",
    "# NBA regular season last two days\n",
    "last = ['4/11/2017', '4/12/2017', '4/10/2017', '4/11/2018'] \n"
   ]
  },
  {
   "cell_type": "code",
   "execution_count": 5,
   "metadata": {
    "scrolled": true
   },
   "outputs": [
    {
     "name": "stdout",
     "output_type": "stream",
     "text": [
      "2000 2000 460\n"
     ]
    }
   ],
   "source": [
    "# create training/test set for 2016 model, we add features to this later\n",
    "model_train_X = train_df[['Season', 'Game_ID', 'Game_Date', 'Away_Team', 'Home_Team']].drop_duplicates().reset_index(drop=True) \n",
    "model_output_X = test_df[['Season', 'Game_ID', 'Game_Date', 'Away_Team', 'Home_Team']]\n",
    "\n",
    "games = list(model_train_X['Game_ID'])\n",
    "# add up total viewers for each game in training set\n",
    "model_train_y = []\n",
    "for game in games:\n",
    "    model_train_y.append(sum(list(train_df.loc[train_df['Game_ID'] == game]['Rounded Viewers']))) \n",
    "    \n",
    "print len(model_train_X), len(model_train_y), len(model_output_X)\n"
   ]
  },
  {
   "cell_type": "code",
   "execution_count": 6,
   "metadata": {
    "scrolled": true
   },
   "outputs": [
    {
     "name": "stdout",
     "output_type": "stream",
     "text": [
      "    Season   Game_ID   Game_Date Away_Team Home_Team  Year  Rivalry  Day_Code  \\\n",
      "0  2016-17  21600001  10/25/2016       NYK       CLE     0        0         1   \n",
      "1  2016-17  21600003  10/25/2016       SAS       GSW     0        0         1   \n",
      "2  2016-17  21600002  10/25/2016       UTA       POR     0        0         1   \n",
      "\n",
      "   Holiday  First      ...       Home_Market_Size  Away_Market_Size  \\\n",
      "0        0      1      ...                 4053.0           19995.0   \n",
      "1        0      1      ...                 6750.0            2193.0   \n",
      "2        0      1      ...                 3010.0            2505.0   \n",
      "\n",
      "   Home_Championships  Away_Championships  Home_Playoffs  Away_Playoffs  \\\n",
      "0                 1.0                 2.0            7.0            5.0   \n",
      "1                 4.0                 5.0            5.0           16.0   \n",
      "2                 1.0                 0.0            9.0            8.0   \n",
      "\n",
      "   Home_Twitter  Away_Twitter  Home_Win_Pct  Away_Win_Pct  \n",
      "0         1.138         1.393           0.0           0.0  \n",
      "1         1.688         1.278           0.0           0.0  \n",
      "2         0.576         0.455           0.0           0.0  \n",
      "\n",
      "[3 rows x 23 columns]\n",
      "    Season   Game_ID   Game_Date Away_Team Home_Team  Year  Rivalry  Day_Code  \\\n",
      "0  2016-17  21600010  10/26/2016       DEN       NOP     0        0         2   \n",
      "1  2016-17  21600023  10/28/2016       HOU       DAL     0        1         4   \n",
      "2  2016-17  21600027  10/29/2016       BOS       CHA     0        0         5   \n",
      "\n",
      "   Holiday  First      ...       Home_Market_Size  Away_Market_Size  \\\n",
      "0        0      1      ...                 1559.0            3921.0   \n",
      "1        0      1      ...                 7090.0            6579.0   \n",
      "2        0      1      ...                 3462.0            6448.0   \n",
      "\n",
      "   Home_Championships  Away_Championships  Home_Playoffs  Away_Playoffs  \\\n",
      "0                 0.0                 0.0            6.0           10.0   \n",
      "1                 1.0                 2.0           15.0            9.0   \n",
      "2                 0.0                17.0            5.0           12.0   \n",
      "\n",
      "   Home_Twitter  Away_Twitter  Home_Win_Pct  Away_Win_Pct  \n",
      "0         0.457         0.476           0.0           0.0  \n",
      "1         0.879         0.985           0.0           0.0  \n",
      "2         0.516         1.863           1.0           0.5  \n",
      "\n",
      "[3 rows x 23 columns]\n"
     ]
    }
   ],
   "source": [
    "# columns to add to train/test sets\n",
    "cols = ['Home_All_Stars', 'Away_All_Stars', 'Home_Market_Size', 'Away_Market_Size', \n",
    "            'Home_Championships', 'Away_Championships', 'Home_Playoffs', 'Away_Playoffs',\n",
    "            'Home_Twitter', 'Away_Twitter', 'Home_Win_Pct', 'Away_Win_Pct']\n",
    "\n",
    "model_train_X['Year'] = 0\n",
    "model_train_X['Rivalry'] = 0\n",
    "model_output_X['Year'] = 0\n",
    "model_output_X['Rivalry'] = 0\n",
    "model_train_X['Day_Code'] = 0\n",
    "model_output_X['Day_Code'] = 0\n",
    "model_train_X['Holiday'] = 0\n",
    "model_output_X['Holiday'] = 0\n",
    "model_train_X['First'] = 0\n",
    "model_output_X['First'] = 0\n",
    "model_train_X['Last'] = 0\n",
    "model_output_X['Last'] = 0\n",
    "\n",
    "for c in cols:\n",
    "    model_train_X[c] = 0.0\n",
    "    model_output_X[c] = 0.0\n",
    "    model_train_X[c] = 0.0\n",
    "    model_output_X[c] = 0.0\n",
    "    \n",
    "metrics = ['Market_Size', 'Championships', 'Playoffs', 'Twitter']\n",
    "\n",
    "def add_features(set_X, num_rows):\n",
    "    \n",
    "    i = 0\n",
    "    games = list(set_X['Game_ID'])\n",
    "    \n",
    "\n",
    "    for game in games[0:num_rows]:\n",
    "        # determine home and away team and winning percentages\n",
    "        \n",
    "        h_row = game_df.loc[(game_df['Game_ID'] == game) & (game_df['Location'] == 'H')]\n",
    "        a_row = game_df.loc[(game_df['Game_ID'] == game) & (game_df['Location'] == 'A')]\n",
    "        \n",
    "        h_team = list(h_row['Team'])[0]\n",
    "        a_team = list(a_row['Team'])[0]\n",
    "        \n",
    "        h_win = float(list(h_row['Wins_Entering_Gm'])[0])\n",
    "        h_loss = float(list(h_row['Losses_Entering_Gm'])[0])\n",
    "        \n",
    "        a_win = float(list(a_row['Wins_Entering_Gm'])[0])\n",
    "        a_loss = float(list(a_row['Losses_Entering_Gm'])[0])\n",
    "        \n",
    "        if (h_win + h_loss != 0):\n",
    "            h_pct = h_win / (h_win + h_loss)\n",
    "        else:\n",
    "            h_pct = 0\n",
    "            \n",
    "        if (a_win + a_loss != 0):\n",
    "            a_pct = a_win / (a_win + a_loss)\n",
    "        else:\n",
    "            a_pct = 0\n",
    "    \n",
    "        # determine home and away active all stars\n",
    "        h_all_stars = len(player_df.loc[(player_df['Team'] == h_team) \n",
    "                                        & (player_df['Game_ID'] == game) \n",
    "                                        & (player_df['ASG_Team'] != 'None') \n",
    "                                        & (player_df['Active_Status'] == 'Active')])\n",
    "    \n",
    "        a_all_stars = len(player_df.loc[(player_df['Team'] == a_team) \n",
    "                                        & (player_df['Game_ID'] == game) \n",
    "                                        & (player_df['ASG_Team'] != 'None') \n",
    "                                        & (player_df['Active_Status'] == 'Active')])\n",
    "        \n",
    "        # determine home and away team metrics\n",
    "        h_team_df = team_df.loc[team_df['Team'] == h_team]\n",
    "        a_team_df = team_df.loc[team_df['Team'] == a_team]\n",
    "        for metric in metrics:\n",
    "            set_X.at[i, 'Home_' + metric] = h_team_df[metric]\n",
    "            set_X.at[i, 'Away_' + metric] = a_team_df[metric]\n",
    "    \n",
    "        set_X.at[i, 'Home_All_Stars'] = h_all_stars\n",
    "        set_X.at[i, 'Away_All_Stars'] = a_all_stars\n",
    "        set_X.at[i, 'Home_Win_Pct'] = h_pct\n",
    "        set_X.at[i, 'Away_Win_Pct'] = a_pct\n",
    "        \n",
    "        # convert season to a new binary feature\n",
    "        if (set_X['Season'][i] == '2016-17'):\n",
    "            set_X.at[i, 'Year'] = 0\n",
    "        elif (set_X['Season'][i] == '2017-18'):\n",
    "            set_X.at[i, 'Year'] = 1\n",
    "            \n",
    "        # add in if there was a rivalry as a binary feature\n",
    "        if ((h_team, a_team) in rivalry) or ((a_team, h_team) in rivalry):\n",
    "            set_X.at[i, 'Rivalry'] = 1\n",
    "            \n",
    "        # add in weekends/holidays as categorical features\n",
    "        date = set_X['Game_Date'][i]\n",
    "        set_X.at[i, 'Day_Code'] = datetime.strptime(date, '%m/%d/%Y').weekday()\n",
    "        if date in holiday:\n",
    "            set_X.at[i, 'Holiday'] = 1\n",
    "        elif date in first:\n",
    "            set_X.at[i, 'First'] = 1\n",
    "        elif date in last:\n",
    "            set_X.at[i, 'Last'] = 1 \n",
    "        \n",
    "        # print game, h_team, a_team, h_all_stars, a_all_stars, h_pct, a_pct\n",
    "        \n",
    "        i += 1\n",
    "        \n",
    "    print set_X[0:3]\n",
    "\n",
    "add_features(model_train_X, len(model_train_X))\n",
    "add_features(model_output_X, len(model_output_X))\n"
   ]
  },
  {
   "cell_type": "code",
   "execution_count": 7,
   "metadata": {
    "scrolled": true
   },
   "outputs": [
    {
     "data": {
      "text/plain": [
       "<matplotlib.collections.PathCollection at 0x108663310>"
      ]
     },
     "execution_count": 7,
     "metadata": {},
     "output_type": "execute_result"
    },
    {
     "data": {
      "image/png": "[encoded data removed]",
      "text/plain": [
       "<matplotlib.figure.Figure at 0x102ab1e90>"
      ]
     },
     "metadata": {},
     "output_type": "display_data"
    }
   ],
   "source": [
    "# plot some graphs, one example shown\n",
    "plt.scatter(model_train_X['Away_Championships'], model_train_y)\n"
   ]
  },
  {
   "cell_type": "code",
   "execution_count": 8,
   "metadata": {},
   "outputs": [
    {
     "name": "stdout",
     "output_type": "stream",
     "text": [
      "    Season   Game_ID   Game_Date Away_Team Home_Team  Year  Rivalry  Day_Code  \\\n",
      "0  2016-17  21600001  10/25/2016       NYK       CLE     0        0         1   \n",
      "1  2016-17  21600003  10/25/2016       SAS       GSW     0        0         1   \n",
      "2  2016-17  21600002  10/25/2016       UTA       POR     0        0         1   \n",
      "\n",
      "   Holiday  First      ...       Home_Market_Size  Away_Market_Size  \\\n",
      "0        0      1      ...                 4053.0           19995.0   \n",
      "1        0      1      ...                 6750.0            2193.0   \n",
      "2        0      1      ...                 3010.0            2505.0   \n",
      "\n",
      "   Home_Championships  Away_Championships  Home_Playoffs  Away_Playoffs  \\\n",
      "0                 1.0                 2.0            7.0            5.0   \n",
      "1                 4.0                 5.0            5.0           16.0   \n",
      "2                 1.0                 0.0            9.0            8.0   \n",
      "\n",
      "   Home_Twitter  Away_Twitter  Home_Win_Pct  Away_Win_Pct  \n",
      "0         1.138         1.393           0.0           0.0  \n",
      "1         1.688         1.278           0.0           0.0  \n",
      "2         0.576         0.455           0.0           0.0  \n",
      "\n",
      "[3 rows x 23 columns]\n"
     ]
    }
   ],
   "source": [
    "# subsetting the training dataset\n",
    "print model_train_X[0:3]\n",
    "drop_cols = ['Season', 'Game_ID','Game_Date', 'Away_Team', 'Home_Team']\n",
    "\n",
    "t_X = model_train_X.drop(drop_cols, axis=1) # should we do normalization?\n",
    "o_X = model_output_X.drop(drop_cols, axis=1)\n"
   ]
  },
  {
   "cell_type": "code",
   "execution_count": 9,
   "metadata": {
    "scrolled": true
   },
   "outputs": [],
   "source": [
    "# make train set of 1200\n",
    "model_sub_X = t_X[0 : 1540]\n",
    "model_sub_y = model_train_y[0 : 1540]\n",
    "\n",
    "# make holdout/test set that we will use to evaluate our model\n",
    "model_holdout_X = t_X[1540 :]\n",
    "model_holdout_y = model_train_y[1540 :]\n"
   ]
  },
  {
   "cell_type": "code",
   "execution_count": 10,
   "metadata": {
    "collapsed": true
   },
   "outputs": [],
   "source": [
    "def mape(predict, actual):\n",
    "    n = len(predict)\n",
    "    sum_score = 0.0\n",
    "    for i in xrange(n):\n",
    "        sum_score += abs((predict[i] - actual[i]) / float(actual[i]))\n",
    "    return (1 / float(n)) * sum_score\n",
    "\n",
    "# define regression model builder\n",
    "def reg_model(model, model_t_X, model_t_y, model_cv_X, model_cv_y):\n",
    "    reg = model\n",
    "    reg.fit(model_t_X, model_t_y)\n",
    "    model_cv_pred = reg.predict(model_cv_X)\n",
    "    return mape(model_cv_pred, model_cv_y)\n"
   ]
  },
  {
   "cell_type": "code",
   "execution_count": 32,
   "metadata": {},
   "outputs": [],
   "source": [
    "# name models\n",
    "linear = linear_model.LinearRegression(normalize=False) # linear regression\n",
    "rf = RandomForestRegressor(max_depth=10, random_state=0,\n",
    "                            criterion='mae', n_estimators=10) # random forest\n",
    "dt = tree.DecisionTreeRegressor() # decision tree\n",
    "nb = GaussianNB() # naive bayes\n",
    "svr = SVR(C=1.0, epsilon=0.2) # support vector machine\n",
    "mlp = MLPRegressor() # multi layer perceptron\n",
    "ridge = Ridge(alpha=1.0) # ridge regression\n",
    "neigh = KNeighborsRegressor(n_neighbors=3) # k nearest neighbors\n"
   ]
  },
  {
   "cell_type": "code",
   "execution_count": 33,
   "metadata": {
    "scrolled": false
   },
   "outputs": [
    {
     "name": "stdout",
     "output_type": "stream",
     "text": [
      "0.277888120074\n",
      "(1386, 18) 1386 (154, 18) 154\n"
     ]
    }
   ],
   "source": [
    "# choose which model to use\n",
    "MODEL_NAME = rf\n",
    "\n",
    "par = [1]\n",
    "for p in par:\n",
    "    # print p, \":\"\n",
    "    # build k folds\n",
    "    k = 10\n",
    "    n = len(model_sub_X)\n",
    "    mapes = []\n",
    "    for i in xrange(k):\n",
    "        model_cv_X = model_sub_X[i : i + n / k]\n",
    "        model_cv_y = model_sub_y[i : i + n / k]\n",
    "        model_t_X = model_sub_X[:i].append(model_sub_X[(i + n/k):])\n",
    "        model_t_y = model_sub_y[:i] + model_sub_y[(i + n/k):]\n",
    "        mapes.append(reg_model(MODEL_NAME,\n",
    "                               model_t_X, model_t_y, model_cv_X, model_cv_y))\n",
    "    print np.mean(mapes)\n",
    "print model_t_X.shape, len(model_t_y), model_cv_X.shape, len(model_cv_y)"
   ]
  },
  {
   "cell_type": "code",
   "execution_count": 34,
   "metadata": {},
   "outputs": [
    {
     "name": "stdout",
     "output_type": "stream",
     "text": [
      "0.503924767547\n"
     ]
    }
   ],
   "source": [
    "print reg_model(MODEL_NAME, model_sub_X, model_sub_y, model_holdout_X, model_holdout_y)\n"
   ]
  },
  {
   "cell_type": "code",
   "execution_count": 36,
   "metadata": {
    "scrolled": true
   },
   "outputs": [
    {
     "name": "stdout",
     "output_type": "stream",
     "text": [
      "[19428.6, 22434.45, 33244.1] 460\n"
     ]
    }
   ],
   "source": [
    "# predict final values for output (test) set \n",
    "final_model_train_X = t_X\n",
    "final_model_test_X = o_X\n",
    "\n",
    "FINAL_MODEL = rf\n",
    "\n",
    "# train and predict\n",
    "reg = FINAL_MODEL\n",
    "reg.fit(final_model_train_X, model_train_y)\n",
    "model_test_pred = reg.predict(final_model_test_X)\n",
    "\n",
    "final_model_test_pred = []\n",
    "# round output values\n",
    "for total in model_test_pred:\n",
    "    final_model_test_pred.append(round(total, 3))\n",
    "    \n",
    "print final_model_test_pred[0:3], len(final_model_test_pred)\n"
   ]
  },
  {
   "cell_type": "code",
   "execution_count": 37,
   "metadata": {},
   "outputs": [
    {
     "name": "stdout",
     "output_type": "stream",
     "text": [
      "    Season   Game_ID   Game_Date Away_Team Home_Team  Total_Viewers\n",
      "0  2016-17  21600010  10/26/2016       DEN       NOP       19428.60\n",
      "1  2016-17  21600023  10/28/2016       HOU       DAL       22434.45\n",
      "2  2016-17  21600027  10/29/2016       BOS       CHA       33244.10\n"
     ]
    }
   ],
   "source": [
    "new_df = test_df.drop(['Total_Viewers'], axis=1)\n",
    "new_df['Total_Viewers'] = final_model_test_pred\n",
    "\n",
    "print new_df[0:3]\n",
    "new_df.to_csv('test_set_Columbia.csv')\n"
   ]
  },
  {
   "cell_type": "code",
   "execution_count": null,
   "metadata": {
    "collapsed": true
   },
   "outputs": [],
   "source": []
  }
 ],
 "metadata": {
  "kernelspec": {
   "display_name": "Python 2",
   "language": "python",
   "name": "python2"
  },
  "language_info": {
   "codemirror_mode": {
    "name": "ipython",
    "version": 2
   },
   "file_extension": ".py",
   "mimetype": "text/x-python",
   "name": "python",
   "nbconvert_exporter": "python",
   "pygments_lexer": "ipython2",
   "version": "2.7.14"
  }
 },
 "nbformat": 4,
 "nbformat_minor": 2
}
